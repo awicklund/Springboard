{
 "cells": [
  {
   "cell_type": "markdown",
   "metadata": {},
   "source": [
    "This exercise will require you to pull some data from the Qunadl API. Qaundl is currently the most widely used aggregator of financial market data."
   ]
  },
  {
   "cell_type": "markdown",
   "metadata": {},
   "source": [
    "As a first step, you will need to register a free account on the http://www.quandl.com website."
   ]
  },
  {
   "cell_type": "markdown",
   "metadata": {},
   "source": [
    "After you register, you will be provided with a unique API key, that you should store:"
   ]
  },
  {
   "cell_type": "code",
   "execution_count": 1,
   "metadata": {},
   "outputs": [],
   "source": [
    "# Store the API key as a string - according to PEP8, constants are always named in all upper case\n",
    "API_KEY = YOURAPIKEY"
   ]
  },
  {
   "cell_type": "markdown",
   "metadata": {},
   "source": [
    "Qaundl has a large number of data sources, but, unfortunately, most of them require a Premium subscription. Still, there are also a good number of free datasets."
   ]
  },
  {
   "cell_type": "markdown",
   "metadata": {},
   "source": [
    "For this mini project, we will focus on equities data from the Frankfurt Stock Exhange (FSE), which is available for free. We'll try and analyze the stock prices of a company called Carl Zeiss Meditec, which manufactures tools for eye examinations, as well as medical lasers for laser eye surgery: https://www.zeiss.com/meditec/int/home.html. The company is listed under the stock ticker AFX_X."
   ]
  },
  {
   "cell_type": "markdown",
   "metadata": {},
   "source": [
    "You can find the detailed Quandl API instructions here: https://docs.quandl.com/docs/time-series"
   ]
  },
  {
   "cell_type": "markdown",
   "metadata": {},
   "source": [
    "While there is a dedicated Python package for connecting to the Quandl API, we would prefer that you use the *requests* package, which can be easily downloaded using *pip* or *conda*. You can find the documentation for the package here: http://docs.python-requests.org/en/master/ "
   ]
  },
  {
   "cell_type": "markdown",
   "metadata": {},
   "source": [
    "Finally, apart from the *requests* package, you are encouraged to not use any third party Python packages, such as *pandas*, and instead focus on what's available in the Python Standard Library (the *collections* module might come in handy: https://pymotw.com/3/collections/ ).\n",
    "Also, since you won't have access to DataFrames, you are encouraged to us Python's native data structures - preferably dictionaries, though some questions can also be answered using lists.\n",
    "You can read more on these data structures here: https://docs.python.org/3/tutorial/datastructures.html"
   ]
  },
  {
   "cell_type": "markdown",
   "metadata": {},
   "source": [
    "Keep in mind that the JSON responses you will be getting from the API map almost one-to-one to Python's dictionaries. Unfortunately, they can be very nested, so make sure you read up on indexing dictionaries in the documentation provided above."
   ]
  },
  {
   "cell_type": "code",
   "execution_count": 74,
   "metadata": {},
   "outputs": [],
   "source": [
    "# First, import the relevant modules\n",
    "import requests"
   ]
  },
  {
   "cell_type": "code",
   "execution_count": 29,
   "metadata": {},
   "outputs": [
    {
     "name": "stdout",
     "output_type": "stream",
     "text": [
      "{'dataset_data': {'limit': None, 'transform': None, 'column_index': None, 'column_names': ['Date', 'Open', 'High', 'Low', 'Close', 'Volume', 'Ex-Dividend', 'Split Ratio', 'Adj. Open', 'Adj. High', 'Adj. Low', 'Adj. Close', 'Adj. Volume'], 'start_date': '2018-01-01', 'end_date': '2018-01-02', 'frequency': 'daily', 'data': [['2018-01-02', 177.68, 181.58, 177.55, 181.42, 17694891.0, 0.0, 1.0, 177.68, 181.58, 177.55, 181.42, 17694891.0]], 'collapse': None, 'order': None}}\n"
     ]
    }
   ],
   "source": [
    "# Now, call the Quandl API and pull out a small sample of the data (only one day) to get a glimpse\n",
    "# into the JSON structure that will be returned\n",
    "url = 'https://www.quandl.com/api/v3/datasets/WIKI/FB/data.json?start_date=2018-01-01&end_date=2018-01-02&api_key=YOURAPIKEY'\n",
    "r = requests.get(url)\n",
    "json_data = r.json()\n",
    "print(json_data)"
   ]
  },
  {
   "cell_type": "code",
   "execution_count": 24,
   "metadata": {},
   "outputs": [
    {
     "name": "stdout",
     "output_type": "stream",
     "text": [
      "{'limit': None, 'transform': None, 'column_index': None, 'column_names': ['Date', 'Open', 'High', 'Low', 'Close', 'Volume', 'Ex-Dividend', 'Split Ratio', 'Adj. Open', 'Adj. High', 'Adj. Low', 'Adj. Close', 'Adj. Volume'], 'start_date': '2018-01-01', 'end_date': '2018-01-02', 'frequency': 'daily', 'data': [['2018-01-02', 177.68, 181.58, 177.55, 181.42, 17694891.0, 0.0, 1.0, 177.68, 181.58, 177.55, 181.42, 17694891.0]], 'collapse': None, 'order': None}\n"
     ]
    }
   ],
   "source": [
    "# Inspect the JSON structure of the object you created, and take note of how nested it is,\n",
    "# as well as the overall structure\n",
    "# Printing the information contained within the key 'dataset_data'\n",
    "print(json_data['dataset_data'])\n",
    "# Closing the file after use\n",
    "r.close()"
   ]
  },
  {
   "cell_type": "markdown",
   "metadata": {},
   "source": [
    "The brackets [ ] indicate lists in the dictionary and even lists within lists."
   ]
  },
  {
   "cell_type": "markdown",
   "metadata": {},
   "source": [
    "These are your tasks for this mini project:\n",
    "\n",
    "1. Collect data from the Franfurt Stock Exchange, for the ticker AFX_X, for the whole year 2017 (keep in mind that the date format is YYYY-MM-DD).\n",
    "2. Convert the returned JSON object into a Python dictionary.\n",
    "3. Calculate what the highest and lowest opening prices were for the stock in this period.\n",
    "4. What was the largest change in any one day (based on High and Low price)?\n",
    "5. What was the largest change between any two days (based on Closing Price)?\n",
    "6. What was the average daily trading volume during this year?\n",
    "7. (Optional) What was the median trading volume during this year. (Note: you may need to implement your own function for calculating the median.)"
   ]
  },
  {
   "cell_type": "code",
   "execution_count": 117,
   "metadata": {},
   "outputs": [
    {
     "name": "stdout",
     "output_type": "stream",
     "text": [
      "Task #3\n",
      "This is the highest opening price for 2017:  126.0\n",
      "This is the lowest opening price for 2017:  91.0\n",
      "\n",
      "Task #4\n",
      "This is the largest change in one day:  11.36\n",
      "\n",
      "Task #5\n",
      "This is the greatest two day change in closing price:  11.54\n",
      "\n",
      "Task #6\n",
      "This is the average trading volume for 2017:  131.36\n"
     ]
    }
   ],
   "source": [
    "#Task 1:\n",
    "url = 'https://www.quandl.com/api/v3/datasets/XFRA/AGB2_UADJ?start_date=2017-01-01&end_date=2017-12-31&api_key=YOURAPIKEY'\n",
    "r = requests.get(url)\n",
    "#Task 2\n",
    "json_data = r.json()\n",
    "r.close()\n",
    "#Task 3 The lambda function turned out to be more complicated than just iterating over the 3rd index. \n",
    "for i in range(len(json_data['dataset']['data'])):\n",
    "    #sets the current number to be the second column of the 'data' sublist in the 'dataset' list in the json_data dictionary.\n",
    "    current_number = json_data['dataset']['data'][i][1]\n",
    "    if i == 1:\n",
    "        #starts the values with the first value found\n",
    "        highest_number = current_number\n",
    "        lowest_number = current_number\n",
    "    elif current_number > highest_number:\n",
    "        highest_number = current_number\n",
    "    elif current_number < lowest_number:\n",
    "        lowest_number = current_number\n",
    "print('Task #3')        \n",
    "print('This is the highest opening price for 2017: ',highest_number)\n",
    "print('This is the lowest opening price for 2017: ',lowest_number)\n",
    "print()\n",
    "\n",
    "#Task 4\n",
    "#Set largest_change to default, zero\n",
    "largest_change = 0\n",
    "\n",
    "for j in range(len(json_data['dataset']['data'])):\n",
    "    #High - Low\n",
    "    current_number = json_data['dataset']['data'][j][2]-json_data['dataset']['data'][j][3]\n",
    "    if current_number > largest_change:\n",
    "        largest_change = current_number\n",
    "\n",
    "print('Task #4')\n",
    "#Rounded due to float errors\n",
    "print('This is the largest change in one day: ',round(largest_change,2))\n",
    "print()\n",
    "\n",
    "#Task 5\n",
    "#Set two_day_change to default, zero\n",
    "two_day_change = 0\n",
    "#Start range at day 3, since days 1 and 2 would not be in 2017\n",
    "for k in range(2,len(json_data['dataset']['data'])):\n",
    "    #Today - Day_before_yesterday (or day-2)\n",
    "    current_number = json_data['dataset']['data'][k][4]-json_data['dataset']['data'][k-2][4]\n",
    "    if current_number > two_day_change:\n",
    "        two_day_change = current_number\n",
    "    \n",
    "print(\"Task #5\")\n",
    "print('This is the greatest two day change in closing price: ',round(two_day_change,2))\n",
    "print()\n",
    "\n",
    "#Task 6\n",
    "#Set sums to 0\n",
    "sums = 0\n",
    "for m in range(len(json_data['dataset']['data'])):\n",
    "    #Finds current Volume\n",
    "    current_number = json_data['dataset']['data'][m][5]\n",
    "    #Add current Volume to sums\n",
    "    sums += current_number\n",
    "\n",
    "#sums/number of days in 2017    \n",
    "avg_volume = sums/len(json_data['dataset']['data'])\n",
    "print('Task #6')\n",
    "print('This is the average trading volume for 2017: ',round(avg_volume,2))\n",
    "    \n",
    "\n"
   ]
  },
  {
   "cell_type": "code",
   "execution_count": null,
   "metadata": {},
   "outputs": [],
   "source": []
  }
 ],
 "metadata": {
  "kernelspec": {
   "display_name": "Python 3",
   "language": "python",
   "name": "python3"
  },
  "language_info": {
   "codemirror_mode": {
    "name": "ipython",
    "version": 3
   },
   "file_extension": ".py",
   "mimetype": "text/x-python",
   "name": "python",
   "nbconvert_exporter": "python",
   "pygments_lexer": "ipython3",
   "version": "3.8.8"
  }
 },
 "nbformat": 4,
 "nbformat_minor": 2
}
