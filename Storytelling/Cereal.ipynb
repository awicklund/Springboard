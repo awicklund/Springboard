{
 "cells": [
  {
   "cell_type": "code",
   "execution_count": 1,
   "id": "f309678e",
   "metadata": {},
   "outputs": [],
   "source": [
    "import pandas as pd\n",
    "import numpy as np\n",
    "import matplotlib.pyplot as plt\n"
   ]
  },
  {
   "cell_type": "code",
   "execution_count": 9,
   "id": "c0a9780f",
   "metadata": {},
   "outputs": [
    {
     "data": {
      "text/html": [
       "<div>\n",
       "<style scoped>\n",
       "    .dataframe tbody tr th:only-of-type {\n",
       "        vertical-align: middle;\n",
       "    }\n",
       "\n",
       "    .dataframe tbody tr th {\n",
       "        vertical-align: top;\n",
       "    }\n",
       "\n",
       "    .dataframe thead th {\n",
       "        text-align: right;\n",
       "    }\n",
       "</style>\n",
       "<table border=\"1\" class=\"dataframe\">\n",
       "  <thead>\n",
       "    <tr style=\"text-align: right;\">\n",
       "      <th></th>\n",
       "      <th>index</th>\n",
       "      <th>grain_name</th>\n",
       "      <th>Producer</th>\n",
       "      <th>Variety</th>\n",
       "      <th>calories_content</th>\n",
       "      <th>protein_content</th>\n",
       "      <th>fat_content</th>\n",
       "      <th>sodium_content</th>\n",
       "      <th>fiber_content</th>\n",
       "      <th>hydrated_carbon</th>\n",
       "      <th>sugars_content</th>\n",
       "      <th>potassium_content</th>\n",
       "      <th>vit_&amp;_min</th>\n",
       "      <th>shelf</th>\n",
       "      <th>weight</th>\n",
       "      <th>cups</th>\n",
       "      <th>ratings</th>\n",
       "    </tr>\n",
       "  </thead>\n",
       "  <tbody>\n",
       "    <tr>\n",
       "      <th>0</th>\n",
       "      <td>0</td>\n",
       "      <td>100% Bran</td>\n",
       "      <td>N</td>\n",
       "      <td>C</td>\n",
       "      <td>70</td>\n",
       "      <td>4</td>\n",
       "      <td>1</td>\n",
       "      <td>130</td>\n",
       "      <td>10.0</td>\n",
       "      <td>5.0</td>\n",
       "      <td>6</td>\n",
       "      <td>280</td>\n",
       "      <td>25</td>\n",
       "      <td>3</td>\n",
       "      <td>1.0</td>\n",
       "      <td>0.33</td>\n",
       "      <td>68.402973</td>\n",
       "    </tr>\n",
       "    <tr>\n",
       "      <th>1</th>\n",
       "      <td>1</td>\n",
       "      <td>100% Natural Bran</td>\n",
       "      <td>Q</td>\n",
       "      <td>C</td>\n",
       "      <td>120</td>\n",
       "      <td>3</td>\n",
       "      <td>5</td>\n",
       "      <td>15</td>\n",
       "      <td>2.0</td>\n",
       "      <td>8.0</td>\n",
       "      <td>8</td>\n",
       "      <td>135</td>\n",
       "      <td>0</td>\n",
       "      <td>3</td>\n",
       "      <td>1.0</td>\n",
       "      <td>1.00</td>\n",
       "      <td>33.983679</td>\n",
       "    </tr>\n",
       "    <tr>\n",
       "      <th>2</th>\n",
       "      <td>2</td>\n",
       "      <td>All-Bran</td>\n",
       "      <td>K</td>\n",
       "      <td>C</td>\n",
       "      <td>70</td>\n",
       "      <td>4</td>\n",
       "      <td>1</td>\n",
       "      <td>260</td>\n",
       "      <td>9.0</td>\n",
       "      <td>7.0</td>\n",
       "      <td>5</td>\n",
       "      <td>320</td>\n",
       "      <td>25</td>\n",
       "      <td>3</td>\n",
       "      <td>1.0</td>\n",
       "      <td>0.33</td>\n",
       "      <td>59.425505</td>\n",
       "    </tr>\n",
       "    <tr>\n",
       "      <th>3</th>\n",
       "      <td>3</td>\n",
       "      <td>All-Bran with Extra Fiber</td>\n",
       "      <td>K</td>\n",
       "      <td>C</td>\n",
       "      <td>50</td>\n",
       "      <td>4</td>\n",
       "      <td>0</td>\n",
       "      <td>140</td>\n",
       "      <td>14.0</td>\n",
       "      <td>8.0</td>\n",
       "      <td>0</td>\n",
       "      <td>330</td>\n",
       "      <td>25</td>\n",
       "      <td>3</td>\n",
       "      <td>1.0</td>\n",
       "      <td>0.50</td>\n",
       "      <td>93.704912</td>\n",
       "    </tr>\n",
       "    <tr>\n",
       "      <th>4</th>\n",
       "      <td>4</td>\n",
       "      <td>Almond Delight</td>\n",
       "      <td>R</td>\n",
       "      <td>C</td>\n",
       "      <td>110</td>\n",
       "      <td>2</td>\n",
       "      <td>2</td>\n",
       "      <td>200</td>\n",
       "      <td>1.0</td>\n",
       "      <td>14.0</td>\n",
       "      <td>8</td>\n",
       "      <td>-1</td>\n",
       "      <td>25</td>\n",
       "      <td>3</td>\n",
       "      <td>1.0</td>\n",
       "      <td>0.75</td>\n",
       "      <td>34.384843</td>\n",
       "    </tr>\n",
       "    <tr>\n",
       "      <th>...</th>\n",
       "      <td>...</td>\n",
       "      <td>...</td>\n",
       "      <td>...</td>\n",
       "      <td>...</td>\n",
       "      <td>...</td>\n",
       "      <td>...</td>\n",
       "      <td>...</td>\n",
       "      <td>...</td>\n",
       "      <td>...</td>\n",
       "      <td>...</td>\n",
       "      <td>...</td>\n",
       "      <td>...</td>\n",
       "      <td>...</td>\n",
       "      <td>...</td>\n",
       "      <td>...</td>\n",
       "      <td>...</td>\n",
       "      <td>...</td>\n",
       "    </tr>\n",
       "    <tr>\n",
       "      <th>72</th>\n",
       "      <td>72</td>\n",
       "      <td>Triples</td>\n",
       "      <td>G</td>\n",
       "      <td>C</td>\n",
       "      <td>110</td>\n",
       "      <td>2</td>\n",
       "      <td>1</td>\n",
       "      <td>250</td>\n",
       "      <td>0.0</td>\n",
       "      <td>21.0</td>\n",
       "      <td>3</td>\n",
       "      <td>60</td>\n",
       "      <td>25</td>\n",
       "      <td>3</td>\n",
       "      <td>1.0</td>\n",
       "      <td>0.75</td>\n",
       "      <td>39.106174</td>\n",
       "    </tr>\n",
       "    <tr>\n",
       "      <th>73</th>\n",
       "      <td>73</td>\n",
       "      <td>Trix</td>\n",
       "      <td>G</td>\n",
       "      <td>C</td>\n",
       "      <td>110</td>\n",
       "      <td>1</td>\n",
       "      <td>1</td>\n",
       "      <td>140</td>\n",
       "      <td>0.0</td>\n",
       "      <td>13.0</td>\n",
       "      <td>12</td>\n",
       "      <td>25</td>\n",
       "      <td>25</td>\n",
       "      <td>2</td>\n",
       "      <td>1.0</td>\n",
       "      <td>1.00</td>\n",
       "      <td>27.753301</td>\n",
       "    </tr>\n",
       "    <tr>\n",
       "      <th>74</th>\n",
       "      <td>74</td>\n",
       "      <td>Wheat Chex</td>\n",
       "      <td>R</td>\n",
       "      <td>C</td>\n",
       "      <td>100</td>\n",
       "      <td>3</td>\n",
       "      <td>1</td>\n",
       "      <td>230</td>\n",
       "      <td>3.0</td>\n",
       "      <td>17.0</td>\n",
       "      <td>3</td>\n",
       "      <td>115</td>\n",
       "      <td>25</td>\n",
       "      <td>1</td>\n",
       "      <td>1.0</td>\n",
       "      <td>0.67</td>\n",
       "      <td>49.787445</td>\n",
       "    </tr>\n",
       "    <tr>\n",
       "      <th>75</th>\n",
       "      <td>75</td>\n",
       "      <td>Wheaties</td>\n",
       "      <td>G</td>\n",
       "      <td>C</td>\n",
       "      <td>100</td>\n",
       "      <td>3</td>\n",
       "      <td>1</td>\n",
       "      <td>200</td>\n",
       "      <td>3.0</td>\n",
       "      <td>17.0</td>\n",
       "      <td>3</td>\n",
       "      <td>110</td>\n",
       "      <td>25</td>\n",
       "      <td>1</td>\n",
       "      <td>1.0</td>\n",
       "      <td>1.00</td>\n",
       "      <td>51.592193</td>\n",
       "    </tr>\n",
       "    <tr>\n",
       "      <th>76</th>\n",
       "      <td>76</td>\n",
       "      <td>Wheaties Honey Gold</td>\n",
       "      <td>G</td>\n",
       "      <td>C</td>\n",
       "      <td>110</td>\n",
       "      <td>2</td>\n",
       "      <td>1</td>\n",
       "      <td>200</td>\n",
       "      <td>1.0</td>\n",
       "      <td>16.0</td>\n",
       "      <td>8</td>\n",
       "      <td>60</td>\n",
       "      <td>25</td>\n",
       "      <td>1</td>\n",
       "      <td>1.0</td>\n",
       "      <td>0.75</td>\n",
       "      <td>36.187559</td>\n",
       "    </tr>\n",
       "  </tbody>\n",
       "</table>\n",
       "<p>77 rows × 17 columns</p>\n",
       "</div>"
      ],
      "text/plain": [
       "    index                 grain_name Producer Variety  calories_content  \\\n",
       "0       0                  100% Bran        N       C                70   \n",
       "1       1          100% Natural Bran        Q       C               120   \n",
       "2       2                   All-Bran        K       C                70   \n",
       "3       3  All-Bran with Extra Fiber        K       C                50   \n",
       "4       4             Almond Delight        R       C               110   \n",
       "..    ...                        ...      ...     ...               ...   \n",
       "72     72                    Triples        G       C               110   \n",
       "73     73                       Trix        G       C               110   \n",
       "74     74                 Wheat Chex        R       C               100   \n",
       "75     75                   Wheaties        G       C               100   \n",
       "76     76        Wheaties Honey Gold        G       C               110   \n",
       "\n",
       "    protein_content  fat_content  sodium_content  fiber_content  \\\n",
       "0                 4            1             130           10.0   \n",
       "1                 3            5              15            2.0   \n",
       "2                 4            1             260            9.0   \n",
       "3                 4            0             140           14.0   \n",
       "4                 2            2             200            1.0   \n",
       "..              ...          ...             ...            ...   \n",
       "72                2            1             250            0.0   \n",
       "73                1            1             140            0.0   \n",
       "74                3            1             230            3.0   \n",
       "75                3            1             200            3.0   \n",
       "76                2            1             200            1.0   \n",
       "\n",
       "    hydrated_carbon  sugars_content  potassium_content  vit_&_min  shelf  \\\n",
       "0               5.0               6                280         25      3   \n",
       "1               8.0               8                135          0      3   \n",
       "2               7.0               5                320         25      3   \n",
       "3               8.0               0                330         25      3   \n",
       "4              14.0               8                 -1         25      3   \n",
       "..              ...             ...                ...        ...    ...   \n",
       "72             21.0               3                 60         25      3   \n",
       "73             13.0              12                 25         25      2   \n",
       "74             17.0               3                115         25      1   \n",
       "75             17.0               3                110         25      1   \n",
       "76             16.0               8                 60         25      1   \n",
       "\n",
       "    weight  cups    ratings  \n",
       "0      1.0  0.33  68.402973  \n",
       "1      1.0  1.00  33.983679  \n",
       "2      1.0  0.33  59.425505  \n",
       "3      1.0  0.50  93.704912  \n",
       "4      1.0  0.75  34.384843  \n",
       "..     ...   ...        ...  \n",
       "72     1.0  0.75  39.106174  \n",
       "73     1.0  1.00  27.753301  \n",
       "74     1.0  0.67  49.787445  \n",
       "75     1.0  1.00  51.592193  \n",
       "76     1.0  0.75  36.187559  \n",
       "\n",
       "[77 rows x 17 columns]"
      ]
     },
     "execution_count": 9,
     "metadata": {},
     "output_type": "execute_result"
    }
   ],
   "source": [
    "file = 'Edible_grains.csv'\n",
    "df = pd.read_csv(file)\n",
    "df.head()\n",
    "df.reset_index()"
   ]
  },
  {
   "cell_type": "markdown",
   "id": "dbb09919",
   "metadata": {},
   "source": [
    "Questions:\n",
    "Do \"bran\" cereals have lower sugar content than others? Calorie content?\n",
    "How about wheat?\n",
    "What cereals have the lowest calorie content per cup? Highest?\n",
    "What would be the highest rated cereal among those from questions above? "
   ]
  },
  {
   "cell_type": "code",
   "execution_count": 10,
   "id": "15738cc6",
   "metadata": {},
   "outputs": [],
   "source": [
    "bran = df[df['grain_name'].str.contains('Bran')]\n",
    "wheat = df[df['grain_name'].str.contains('Wheat')]"
   ]
  },
  {
   "cell_type": "code",
   "execution_count": 22,
   "id": "b871bf46",
   "metadata": {},
   "outputs": [
    {
     "data": {
      "text/plain": [
       "Text(0, 0.5, 'Number of cereals')"
      ]
     },
     "execution_count": 22,
     "metadata": {},
     "output_type": "execute_result"
    },
    {
     "data": {
      "image/png": "[encoded data removed]",
      "text/plain": [
       "<Figure size 432x288 with 1 Axes>"
      ]
     },
     "metadata": {
      "needs_background": "light"
     },
     "output_type": "display_data"
    }
   ],
   "source": [
    "plt.hist(bran.sugars_content)\n",
    "plt.hist(wheat.sugars_content)\n",
    "plt.legend(['Bran','Wheat'])\n",
    "plt.title('Sugar in Bran and Wheat Cereals')\n",
    "plt.xlabel('Sugar (g)')\n",
    "plt.ylabel('Number of cereals')"
   ]
  },
  {
   "cell_type": "code",
   "execution_count": 33,
   "id": "320607d9",
   "metadata": {},
   "outputs": [
    {
     "data": {
      "text/plain": [
       "Text(0, 0.5, 'Number of cereals')"
      ]
     },
     "execution_count": 33,
     "metadata": {},
     "output_type": "execute_result"
    },
    {
     "data": {
      "image/png": "[encoded data removed]",
      "text/plain": [
       "<Figure size 432x288 with 1 Axes>"
      ]
     },
     "metadata": {
      "needs_background": "light"
     },
     "output_type": "display_data"
    }
   ],
   "source": [
    "plt.hist(bran.calories_content)\n",
    "plt.hist(wheat.calories_content)\n",
    "plt.legend(['Bran','Wheat'])\n",
    "plt.title('Calories in Bran and Wheat Cereals')\n",
    "plt.xlabel('Calories per serving')\n",
    "plt.ylabel('Number of cereals')"
   ]
  },
  {
   "cell_type": "code",
   "execution_count": 31,
   "id": "c6589049",
   "metadata": {},
   "outputs": [
    {
     "data": {
      "text/plain": [
       "Text(0.5, 1.0, 'Average Sugar(g) per Serving')"
      ]
     },
     "execution_count": 31,
     "metadata": {},
     "output_type": "execute_result"
    },
    {
     "data": {
      "image/png": "[encoded data removed]",
      "text/plain": [
       "<Figure size 432x288 with 1 Axes>"
      ]
     },
     "metadata": {
      "needs_background": "light"
     },
     "output_type": "display_data"
    }
   ],
   "source": [
    "bran_mean = bran.mean()\n",
    "wheat_mean = wheat.mean()\n",
    "X = ['Bran', 'Wheat']\n",
    "Y = [bran_mean['sugars_content'],wheat_mean['sugars_content']]\n",
    "plt.bar(X,Y)\n",
    "plt.title('Average Sugar(g) per Serving')"
   ]
  },
  {
   "cell_type": "code",
   "execution_count": 32,
   "id": "b7f757a3",
   "metadata": {},
   "outputs": [
    {
     "data": {
      "text/plain": [
       "Text(0.5, 1.0, 'Average Calories per Serving')"
      ]
     },
     "execution_count": 32,
     "metadata": {},
     "output_type": "execute_result"
    },
    {
     "data": {
      "image/png": "[encoded data removed]",
      "text/plain": [
       "<Figure size 432x288 with 1 Axes>"
      ]
     },
     "metadata": {
      "needs_background": "light"
     },
     "output_type": "display_data"
    }
   ],
   "source": [
    "X = ['Bran', 'Wheat']\n",
    "Y = [bran_mean['calories_content'],wheat_mean['calories_content']]\n",
    "plt.bar(X,Y)\n",
    "plt.title('Average Calories per Serving')"
   ]
  },
  {
   "cell_type": "code",
   "execution_count": 34,
   "id": "bfbbc4d8",
   "metadata": {},
   "outputs": [
    {
     "data": {
      "text/plain": [
       "array(['100% Bran', '100% Natural Bran', 'All-Bran',\n",
       "       'All-Bran with Extra Fiber', 'Almond Delight',\n",
       "       'Apple Cinnamon Cheerios', 'Apple Jacks', 'Basic 4', 'Bran Chex',\n",
       "       'Bran Flakes', \"Cap'n'Crunch\", 'Cheerios', 'Cinnamon Toast Crunch',\n",
       "       'Clusters', 'Cocoa Puffs', 'Corn Chex', 'Corn Flakes', 'Corn Pops',\n",
       "       'Count Chocula', \"Cracklin' Oat Bran\", 'Cream of Wheat (Quick)',\n",
       "       'Crispix', 'Crispy Wheat & Raisins', 'Double Chex', 'Froot Loops',\n",
       "       'Frosted Flakes', 'Frosted Mini-Wheats',\n",
       "       'Fruit & Fibre Dates; Walnuts; and Oats', 'Fruitful Bran',\n",
       "       'Fruity Pebbles', 'Golden Crisp', 'Golden Grahams',\n",
       "       'Grape Nuts Flakes', 'Grape-Nuts', 'Great Grains Pecan',\n",
       "       'Honey Graham Ohs', 'Honey Nut Cheerios', 'Honey-comb',\n",
       "       'Just Right Crunchy  Nuggets', 'Just Right Fruit & Nut', 'Kix',\n",
       "       'Life', 'Lucky Charms', 'Maypo',\n",
       "       'Muesli Raisins; Dates; & Almonds',\n",
       "       'Muesli Raisins; Peaches; & Pecans', 'Mueslix Crispy Blend',\n",
       "       'Multi-Grain Cheerios', 'Nut&Honey Crunch',\n",
       "       'Nutri-Grain Almond-Raisin', 'Nutri-grain Wheat',\n",
       "       'Oatmeal Raisin Crisp', 'Post Nat. Raisin Bran', 'Product 19',\n",
       "       'Puffed Rice', 'Puffed Wheat', 'Quaker Oat Squares',\n",
       "       'Quaker Oatmeal', 'Raisin Bran', 'Raisin Nut Bran',\n",
       "       'Raisin Squares', 'Rice Chex', 'Rice Krispies', 'Shredded Wheat',\n",
       "       \"Shredded Wheat 'n'Bran\", 'Shredded Wheat spoon size', 'Smacks',\n",
       "       'Special K', 'Strawberry Fruit Wheats', 'Total Corn Flakes',\n",
       "       'Total Raisin Bran', 'Total Whole Grain', 'Triples', 'Trix',\n",
       "       'Wheat Chex', 'Wheaties', 'Wheaties Honey Gold'], dtype=object)"
      ]
     },
     "execution_count": 34,
     "metadata": {},
     "output_type": "execute_result"
    }
   ],
   "source": [
    "df.grain_name.unique()"
   ]
  },
  {
   "cell_type": "code",
   "execution_count": 36,
   "id": "8ac0d1a4",
   "metadata": {},
   "outputs": [
    {
     "data": {
      "text/html": [
       "<div>\n",
       "<style scoped>\n",
       "    .dataframe tbody tr th:only-of-type {\n",
       "        vertical-align: middle;\n",
       "    }\n",
       "\n",
       "    .dataframe tbody tr th {\n",
       "        vertical-align: top;\n",
       "    }\n",
       "\n",
       "    .dataframe thead th {\n",
       "        text-align: right;\n",
       "    }\n",
       "</style>\n",
       "<table border=\"1\" class=\"dataframe\">\n",
       "  <thead>\n",
       "    <tr style=\"text-align: right;\">\n",
       "      <th></th>\n",
       "      <th>grain_name</th>\n",
       "      <th>Producer</th>\n",
       "      <th>Variety</th>\n",
       "      <th>calories_content</th>\n",
       "      <th>protein_content</th>\n",
       "      <th>fat_content</th>\n",
       "      <th>sodium_content</th>\n",
       "      <th>fiber_content</th>\n",
       "      <th>hydrated_carbon</th>\n",
       "      <th>sugars_content</th>\n",
       "      <th>potassium_content</th>\n",
       "      <th>vit_&amp;_min</th>\n",
       "      <th>shelf</th>\n",
       "      <th>weight</th>\n",
       "      <th>cups</th>\n",
       "      <th>ratings</th>\n",
       "    </tr>\n",
       "  </thead>\n",
       "  <tbody>\n",
       "    <tr>\n",
       "      <th>25</th>\n",
       "      <td>Frosted Flakes</td>\n",
       "      <td>K</td>\n",
       "      <td>C</td>\n",
       "      <td>110</td>\n",
       "      <td>1</td>\n",
       "      <td>0</td>\n",
       "      <td>200</td>\n",
       "      <td>1.0</td>\n",
       "      <td>14.0</td>\n",
       "      <td>11</td>\n",
       "      <td>25</td>\n",
       "      <td>25</td>\n",
       "      <td>1</td>\n",
       "      <td>1.0</td>\n",
       "      <td>0.75</td>\n",
       "      <td>31.435973</td>\n",
       "    </tr>\n",
       "  </tbody>\n",
       "</table>\n",
       "</div>"
      ],
      "text/plain": [
       "        grain_name Producer Variety  calories_content  protein_content  \\\n",
       "25  Frosted Flakes        K       C               110                1   \n",
       "\n",
       "    fat_content  sodium_content  fiber_content  hydrated_carbon  \\\n",
       "25            0             200            1.0             14.0   \n",
       "\n",
       "    sugars_content  potassium_content  vit_&_min  shelf  weight  cups  \\\n",
       "25              11                 25         25      1     1.0  0.75   \n",
       "\n",
       "      ratings  \n",
       "25  31.435973  "
      ]
     },
     "execution_count": 36,
     "metadata": {},
     "output_type": "execute_result"
    }
   ],
   "source": [
    "MyFavorite = df[df['grain_name'] == 'Frosted Flakes']\n",
    "MyFavorite"
   ]
  },
  {
   "cell_type": "code",
   "execution_count": 85,
   "id": "8f086d2b",
   "metadata": {},
   "outputs": [
    {
     "data": {
      "text/plain": [
       "Text(0.5, 1.0, 'Average Sugar per Serving')"
      ]
     },
     "execution_count": 85,
     "metadata": {},
     "output_type": "execute_result"
    },
    {
     "data": {
      "image/png": "[encoded data removed]",
      "text/plain": [
       "<Figure size 432x288 with 1 Axes>"
      ]
     },
     "metadata": {
      "needs_background": "light"
     },
     "output_type": "display_data"
    }
   ],
   "source": [
    "X = ['Bran', 'Wheat', 'Frosted Flakes']\n",
    "Y = [bran_mean['sugars_content'],wheat_mean['sugars_content'],11]\n",
    "plt.bar(X,Y, color='purple')\n",
    "plt.ylabel('Sugar (g)')\n",
    "plt.title('Average Sugar per Serving')"
   ]
  },
  {
   "cell_type": "code",
   "execution_count": 41,
   "id": "2129010a",
   "metadata": {},
   "outputs": [
    {
     "data": {
      "text/plain": [
       "Text(0.5, 1.0, 'Average Calories per Serving')"
      ]
     },
     "execution_count": 41,
     "metadata": {},
     "output_type": "execute_result"
    },
    {
     "data": {
      "image/png": "[encoded data removed]",
      "text/plain": [
       "<Figure size 432x288 with 1 Axes>"
      ]
     },
     "metadata": {
      "needs_background": "light"
     },
     "output_type": "display_data"
    }
   ],
   "source": [
    "X = ['Bran', 'Wheat','Frosted Flakes']\n",
    "Y = [bran_mean['calories_content'],wheat_mean['calories_content'],110]\n",
    "plt.bar(X,Y, color='purple')\n",
    "plt.title('Average Calories per Serving')"
   ]
  },
  {
   "cell_type": "code",
   "execution_count": 42,
   "id": "83980d78",
   "metadata": {},
   "outputs": [],
   "source": [
    "df['value'] = df['calories_content']/df['cups']"
   ]
  },
  {
   "cell_type": "code",
   "execution_count": 59,
   "id": "704e4b7a",
   "metadata": {},
   "outputs": [
    {
     "data": {
      "text/html": [
       "<div>\n",
       "<style scoped>\n",
       "    .dataframe tbody tr th:only-of-type {\n",
       "        vertical-align: middle;\n",
       "    }\n",
       "\n",
       "    .dataframe tbody tr th {\n",
       "        vertical-align: top;\n",
       "    }\n",
       "\n",
       "    .dataframe thead th {\n",
       "        text-align: right;\n",
       "    }\n",
       "</style>\n",
       "<table border=\"1\" class=\"dataframe\">\n",
       "  <thead>\n",
       "    <tr style=\"text-align: right;\">\n",
       "      <th></th>\n",
       "      <th>grain_name</th>\n",
       "      <th>Producer</th>\n",
       "      <th>Variety</th>\n",
       "      <th>calories_content</th>\n",
       "      <th>protein_content</th>\n",
       "      <th>fat_content</th>\n",
       "      <th>sodium_content</th>\n",
       "      <th>fiber_content</th>\n",
       "      <th>hydrated_carbon</th>\n",
       "      <th>sugars_content</th>\n",
       "      <th>potassium_content</th>\n",
       "      <th>vit_&amp;_min</th>\n",
       "      <th>shelf</th>\n",
       "      <th>weight</th>\n",
       "      <th>cups</th>\n",
       "      <th>ratings</th>\n",
       "      <th>value</th>\n",
       "    </tr>\n",
       "  </thead>\n",
       "  <tbody>\n",
       "    <tr>\n",
       "      <th>54</th>\n",
       "      <td>Puffed Rice</td>\n",
       "      <td>Q</td>\n",
       "      <td>C</td>\n",
       "      <td>50</td>\n",
       "      <td>1</td>\n",
       "      <td>0</td>\n",
       "      <td>0</td>\n",
       "      <td>0.0</td>\n",
       "      <td>13.0</td>\n",
       "      <td>0</td>\n",
       "      <td>15</td>\n",
       "      <td>0</td>\n",
       "      <td>3</td>\n",
       "      <td>0.50</td>\n",
       "      <td>1.00</td>\n",
       "      <td>60.756112</td>\n",
       "      <td>50.000000</td>\n",
       "    </tr>\n",
       "    <tr>\n",
       "      <th>55</th>\n",
       "      <td>Puffed Wheat</td>\n",
       "      <td>Q</td>\n",
       "      <td>C</td>\n",
       "      <td>50</td>\n",
       "      <td>2</td>\n",
       "      <td>0</td>\n",
       "      <td>0</td>\n",
       "      <td>1.0</td>\n",
       "      <td>10.0</td>\n",
       "      <td>0</td>\n",
       "      <td>50</td>\n",
       "      <td>0</td>\n",
       "      <td>3</td>\n",
       "      <td>0.50</td>\n",
       "      <td>1.00</td>\n",
       "      <td>63.005645</td>\n",
       "      <td>50.000000</td>\n",
       "    </tr>\n",
       "    <tr>\n",
       "      <th>40</th>\n",
       "      <td>Kix</td>\n",
       "      <td>G</td>\n",
       "      <td>C</td>\n",
       "      <td>110</td>\n",
       "      <td>2</td>\n",
       "      <td>1</td>\n",
       "      <td>260</td>\n",
       "      <td>0.0</td>\n",
       "      <td>21.0</td>\n",
       "      <td>3</td>\n",
       "      <td>40</td>\n",
       "      <td>25</td>\n",
       "      <td>2</td>\n",
       "      <td>1.00</td>\n",
       "      <td>1.50</td>\n",
       "      <td>39.241114</td>\n",
       "      <td>73.333333</td>\n",
       "    </tr>\n",
       "    <tr>\n",
       "      <th>63</th>\n",
       "      <td>Shredded Wheat</td>\n",
       "      <td>N</td>\n",
       "      <td>C</td>\n",
       "      <td>80</td>\n",
       "      <td>2</td>\n",
       "      <td>0</td>\n",
       "      <td>0</td>\n",
       "      <td>3.0</td>\n",
       "      <td>16.0</td>\n",
       "      <td>0</td>\n",
       "      <td>95</td>\n",
       "      <td>0</td>\n",
       "      <td>1</td>\n",
       "      <td>0.83</td>\n",
       "      <td>1.00</td>\n",
       "      <td>68.235885</td>\n",
       "      <td>80.000000</td>\n",
       "    </tr>\n",
       "    <tr>\n",
       "      <th>37</th>\n",
       "      <td>Honey-comb</td>\n",
       "      <td>P</td>\n",
       "      <td>C</td>\n",
       "      <td>110</td>\n",
       "      <td>1</td>\n",
       "      <td>0</td>\n",
       "      <td>180</td>\n",
       "      <td>0.0</td>\n",
       "      <td>14.0</td>\n",
       "      <td>11</td>\n",
       "      <td>35</td>\n",
       "      <td>25</td>\n",
       "      <td>1</td>\n",
       "      <td>1.00</td>\n",
       "      <td>1.33</td>\n",
       "      <td>28.742414</td>\n",
       "      <td>82.706767</td>\n",
       "    </tr>\n",
       "    <tr>\n",
       "      <th>...</th>\n",
       "      <td>...</td>\n",
       "      <td>...</td>\n",
       "      <td>...</td>\n",
       "      <td>...</td>\n",
       "      <td>...</td>\n",
       "      <td>...</td>\n",
       "      <td>...</td>\n",
       "      <td>...</td>\n",
       "      <td>...</td>\n",
       "      <td>...</td>\n",
       "      <td>...</td>\n",
       "      <td>...</td>\n",
       "      <td>...</td>\n",
       "      <td>...</td>\n",
       "      <td>...</td>\n",
       "      <td>...</td>\n",
       "      <td>...</td>\n",
       "    </tr>\n",
       "    <tr>\n",
       "      <th>13</th>\n",
       "      <td>Clusters</td>\n",
       "      <td>G</td>\n",
       "      <td>C</td>\n",
       "      <td>110</td>\n",
       "      <td>3</td>\n",
       "      <td>2</td>\n",
       "      <td>140</td>\n",
       "      <td>2.0</td>\n",
       "      <td>13.0</td>\n",
       "      <td>7</td>\n",
       "      <td>105</td>\n",
       "      <td>25</td>\n",
       "      <td>3</td>\n",
       "      <td>1.00</td>\n",
       "      <td>0.50</td>\n",
       "      <td>40.400208</td>\n",
       "      <td>220.000000</td>\n",
       "    </tr>\n",
       "    <tr>\n",
       "      <th>46</th>\n",
       "      <td>Mueslix Crispy Blend</td>\n",
       "      <td>K</td>\n",
       "      <td>C</td>\n",
       "      <td>160</td>\n",
       "      <td>3</td>\n",
       "      <td>2</td>\n",
       "      <td>150</td>\n",
       "      <td>3.0</td>\n",
       "      <td>17.0</td>\n",
       "      <td>13</td>\n",
       "      <td>160</td>\n",
       "      <td>25</td>\n",
       "      <td>3</td>\n",
       "      <td>1.50</td>\n",
       "      <td>0.67</td>\n",
       "      <td>30.313351</td>\n",
       "      <td>238.805970</td>\n",
       "    </tr>\n",
       "    <tr>\n",
       "      <th>51</th>\n",
       "      <td>Oatmeal Raisin Crisp</td>\n",
       "      <td>G</td>\n",
       "      <td>C</td>\n",
       "      <td>130</td>\n",
       "      <td>3</td>\n",
       "      <td>2</td>\n",
       "      <td>170</td>\n",
       "      <td>1.5</td>\n",
       "      <td>13.5</td>\n",
       "      <td>10</td>\n",
       "      <td>120</td>\n",
       "      <td>25</td>\n",
       "      <td>3</td>\n",
       "      <td>1.25</td>\n",
       "      <td>0.50</td>\n",
       "      <td>30.450843</td>\n",
       "      <td>260.000000</td>\n",
       "    </tr>\n",
       "    <tr>\n",
       "      <th>34</th>\n",
       "      <td>Great Grains Pecan</td>\n",
       "      <td>P</td>\n",
       "      <td>C</td>\n",
       "      <td>120</td>\n",
       "      <td>3</td>\n",
       "      <td>3</td>\n",
       "      <td>75</td>\n",
       "      <td>3.0</td>\n",
       "      <td>13.0</td>\n",
       "      <td>4</td>\n",
       "      <td>100</td>\n",
       "      <td>25</td>\n",
       "      <td>3</td>\n",
       "      <td>1.00</td>\n",
       "      <td>0.33</td>\n",
       "      <td>45.811716</td>\n",
       "      <td>363.636364</td>\n",
       "    </tr>\n",
       "    <tr>\n",
       "      <th>33</th>\n",
       "      <td>Grape-Nuts</td>\n",
       "      <td>P</td>\n",
       "      <td>C</td>\n",
       "      <td>110</td>\n",
       "      <td>3</td>\n",
       "      <td>0</td>\n",
       "      <td>170</td>\n",
       "      <td>3.0</td>\n",
       "      <td>17.0</td>\n",
       "      <td>3</td>\n",
       "      <td>90</td>\n",
       "      <td>25</td>\n",
       "      <td>3</td>\n",
       "      <td>1.00</td>\n",
       "      <td>0.25</td>\n",
       "      <td>53.371007</td>\n",
       "      <td>440.000000</td>\n",
       "    </tr>\n",
       "  </tbody>\n",
       "</table>\n",
       "<p>77 rows × 17 columns</p>\n",
       "</div>"
      ],
      "text/plain": [
       "              grain_name Producer Variety  calories_content  protein_content  \\\n",
       "54           Puffed Rice        Q       C                50                1   \n",
       "55          Puffed Wheat        Q       C                50                2   \n",
       "40                   Kix        G       C               110                2   \n",
       "63        Shredded Wheat        N       C                80                2   \n",
       "37            Honey-comb        P       C               110                1   \n",
       "..                   ...      ...     ...               ...              ...   \n",
       "13              Clusters        G       C               110                3   \n",
       "46  Mueslix Crispy Blend        K       C               160                3   \n",
       "51  Oatmeal Raisin Crisp        G       C               130                3   \n",
       "34    Great Grains Pecan        P       C               120                3   \n",
       "33            Grape-Nuts        P       C               110                3   \n",
       "\n",
       "    fat_content  sodium_content  fiber_content  hydrated_carbon  \\\n",
       "54            0               0            0.0             13.0   \n",
       "55            0               0            1.0             10.0   \n",
       "40            1             260            0.0             21.0   \n",
       "63            0               0            3.0             16.0   \n",
       "37            0             180            0.0             14.0   \n",
       "..          ...             ...            ...              ...   \n",
       "13            2             140            2.0             13.0   \n",
       "46            2             150            3.0             17.0   \n",
       "51            2             170            1.5             13.5   \n",
       "34            3              75            3.0             13.0   \n",
       "33            0             170            3.0             17.0   \n",
       "\n",
       "    sugars_content  potassium_content  vit_&_min  shelf  weight  cups  \\\n",
       "54               0                 15          0      3    0.50  1.00   \n",
       "55               0                 50          0      3    0.50  1.00   \n",
       "40               3                 40         25      2    1.00  1.50   \n",
       "63               0                 95          0      1    0.83  1.00   \n",
       "37              11                 35         25      1    1.00  1.33   \n",
       "..             ...                ...        ...    ...     ...   ...   \n",
       "13               7                105         25      3    1.00  0.50   \n",
       "46              13                160         25      3    1.50  0.67   \n",
       "51              10                120         25      3    1.25  0.50   \n",
       "34               4                100         25      3    1.00  0.33   \n",
       "33               3                 90         25      3    1.00  0.25   \n",
       "\n",
       "      ratings       value  \n",
       "54  60.756112   50.000000  \n",
       "55  63.005645   50.000000  \n",
       "40  39.241114   73.333333  \n",
       "63  68.235885   80.000000  \n",
       "37  28.742414   82.706767  \n",
       "..        ...         ...  \n",
       "13  40.400208  220.000000  \n",
       "46  30.313351  238.805970  \n",
       "51  30.450843  260.000000  \n",
       "34  45.811716  363.636364  \n",
       "33  53.371007  440.000000  \n",
       "\n",
       "[77 rows x 17 columns]"
      ]
     },
     "execution_count": 59,
     "metadata": {},
     "output_type": "execute_result"
    }
   ],
   "source": [
    "df.sort_values(by='value')"
   ]
  },
  {
   "cell_type": "code",
   "execution_count": 69,
   "id": "d3f51ddf",
   "metadata": {},
   "outputs": [
    {
     "name": "stderr",
     "output_type": "stream",
     "text": [
      "<ipython-input-69-476b0a815ffd>:5: UserWarning: FixedFormatter should only be used together with FixedLocator\n",
      "  ax.set_xticklabels(X, rotation=90)\n"
     ]
    },
    {
     "data": {
      "text/plain": [
       "Text(0.5, 1.0, 'Cereal with Lowest Calories per Cup')"
      ]
     },
     "execution_count": 69,
     "metadata": {},
     "output_type": "execute_result"
    },
    {
     "data": {
      "image/png": "[encoded data removed]",
      "text/plain": [
       "<Figure size 432x288 with 1 Axes>"
      ]
     },
     "metadata": {
      "needs_background": "light"
     },
     "output_type": "display_data"
    }
   ],
   "source": [
    "X = ['Puffed Rice', 'Puffed Wheat', 'Kix', 'Shredded Wheat', 'Honey-comb']\n",
    "Y = [50.000000, 50.000000, 73.333333, 80.000000, 82.706767]\n",
    "ax = plt.subplot()\n",
    "ax.bar(X,Y,color='b')\n",
    "ax.set_xticklabels(X, rotation=90)\n",
    "ax.set_ylabel('Calories per cup')\n",
    "ax.set_title('Cereal with Lowest Calories per Cup')"
   ]
  },
  {
   "cell_type": "code",
   "execution_count": 71,
   "id": "d70d430b",
   "metadata": {},
   "outputs": [
    {
     "name": "stdout",
     "output_type": "stream",
     "text": [
      "54             Puffed Rice\n",
      "55            Puffed Wheat\n",
      "40                     Kix\n",
      "63          Shredded Wheat\n",
      "37              Honey-comb\n",
      "              ...         \n",
      "13                Clusters\n",
      "46    Mueslix Crispy Blend\n",
      "51    Oatmeal Raisin Crisp\n",
      "34      Great Grains Pecan\n",
      "33              Grape-Nuts\n",
      "Name: grain_name, Length: 77, dtype: object\n"
     ]
    }
   ],
   "source": [
    "df_sorted.tail()\n",
    "print(df_sorted.grain_name)"
   ]
  },
  {
   "cell_type": "code",
   "execution_count": 72,
   "id": "a43f2234",
   "metadata": {},
   "outputs": [
    {
     "name": "stderr",
     "output_type": "stream",
     "text": [
      "<ipython-input-72-c30d30930ce9>:5: UserWarning: FixedFormatter should only be used together with FixedLocator\n",
      "  ax.set_xticklabels(X, rotation=90)\n"
     ]
    },
    {
     "data": {
      "text/plain": [
       "Text(0.5, 1.0, 'Cereal with Highest Calories per Cup')"
      ]
     },
     "execution_count": 72,
     "metadata": {},
     "output_type": "execute_result"
    },
    {
     "data": {
      "image/png": "[encoded data removed]",
      "text/plain": [
       "<Figure size 432x288 with 1 Axes>"
      ]
     },
     "metadata": {
      "needs_background": "light"
     },
     "output_type": "display_data"
    }
   ],
   "source": [
    "X = ['Clusters','Mueslix Crispy Blend','Oatmeal Raisin Crisp','Great Grains Pecan', 'Grape-Nuts']\n",
    "Y = [220.000000, 238.805970, 260.000000, 363.636364, 440.000000]\n",
    "ax = plt.subplot()\n",
    "ax.bar(X,Y,color='r')\n",
    "ax.set_xticklabels(X, rotation=90)\n",
    "ax.set_ylabel('Calories per cup')\n",
    "ax.set_title('Cereal with Highest Calories per Cup')"
   ]
  },
  {
   "cell_type": "code",
   "execution_count": 74,
   "id": "d27dd0fc",
   "metadata": {},
   "outputs": [],
   "source": [
    "df_best = df.sort_values(by='ratings', ascending=False)"
   ]
  },
  {
   "cell_type": "code",
   "execution_count": 75,
   "id": "2413c1ad",
   "metadata": {},
   "outputs": [
    {
     "data": {
      "text/html": [
       "<div>\n",
       "<style scoped>\n",
       "    .dataframe tbody tr th:only-of-type {\n",
       "        vertical-align: middle;\n",
       "    }\n",
       "\n",
       "    .dataframe tbody tr th {\n",
       "        vertical-align: top;\n",
       "    }\n",
       "\n",
       "    .dataframe thead th {\n",
       "        text-align: right;\n",
       "    }\n",
       "</style>\n",
       "<table border=\"1\" class=\"dataframe\">\n",
       "  <thead>\n",
       "    <tr style=\"text-align: right;\">\n",
       "      <th></th>\n",
       "      <th>grain_name</th>\n",
       "      <th>Producer</th>\n",
       "      <th>Variety</th>\n",
       "      <th>calories_content</th>\n",
       "      <th>protein_content</th>\n",
       "      <th>fat_content</th>\n",
       "      <th>sodium_content</th>\n",
       "      <th>fiber_content</th>\n",
       "      <th>hydrated_carbon</th>\n",
       "      <th>sugars_content</th>\n",
       "      <th>potassium_content</th>\n",
       "      <th>vit_&amp;_min</th>\n",
       "      <th>shelf</th>\n",
       "      <th>weight</th>\n",
       "      <th>cups</th>\n",
       "      <th>ratings</th>\n",
       "      <th>value</th>\n",
       "    </tr>\n",
       "  </thead>\n",
       "  <tbody>\n",
       "    <tr>\n",
       "      <th>3</th>\n",
       "      <td>All-Bran with Extra Fiber</td>\n",
       "      <td>K</td>\n",
       "      <td>C</td>\n",
       "      <td>50</td>\n",
       "      <td>4</td>\n",
       "      <td>0</td>\n",
       "      <td>140</td>\n",
       "      <td>14.0</td>\n",
       "      <td>8.0</td>\n",
       "      <td>0</td>\n",
       "      <td>330</td>\n",
       "      <td>25</td>\n",
       "      <td>3</td>\n",
       "      <td>1.00</td>\n",
       "      <td>0.50</td>\n",
       "      <td>93.704912</td>\n",
       "      <td>100.000000</td>\n",
       "    </tr>\n",
       "    <tr>\n",
       "      <th>64</th>\n",
       "      <td>Shredded Wheat 'n'Bran</td>\n",
       "      <td>N</td>\n",
       "      <td>C</td>\n",
       "      <td>90</td>\n",
       "      <td>3</td>\n",
       "      <td>0</td>\n",
       "      <td>0</td>\n",
       "      <td>4.0</td>\n",
       "      <td>19.0</td>\n",
       "      <td>0</td>\n",
       "      <td>140</td>\n",
       "      <td>0</td>\n",
       "      <td>1</td>\n",
       "      <td>1.00</td>\n",
       "      <td>0.67</td>\n",
       "      <td>74.472949</td>\n",
       "      <td>134.328358</td>\n",
       "    </tr>\n",
       "    <tr>\n",
       "      <th>65</th>\n",
       "      <td>Shredded Wheat spoon size</td>\n",
       "      <td>N</td>\n",
       "      <td>C</td>\n",
       "      <td>90</td>\n",
       "      <td>3</td>\n",
       "      <td>0</td>\n",
       "      <td>0</td>\n",
       "      <td>3.0</td>\n",
       "      <td>20.0</td>\n",
       "      <td>0</td>\n",
       "      <td>120</td>\n",
       "      <td>0</td>\n",
       "      <td>1</td>\n",
       "      <td>1.00</td>\n",
       "      <td>0.67</td>\n",
       "      <td>72.801787</td>\n",
       "      <td>134.328358</td>\n",
       "    </tr>\n",
       "    <tr>\n",
       "      <th>0</th>\n",
       "      <td>100% Bran</td>\n",
       "      <td>N</td>\n",
       "      <td>C</td>\n",
       "      <td>70</td>\n",
       "      <td>4</td>\n",
       "      <td>1</td>\n",
       "      <td>130</td>\n",
       "      <td>10.0</td>\n",
       "      <td>5.0</td>\n",
       "      <td>6</td>\n",
       "      <td>280</td>\n",
       "      <td>25</td>\n",
       "      <td>3</td>\n",
       "      <td>1.00</td>\n",
       "      <td>0.33</td>\n",
       "      <td>68.402973</td>\n",
       "      <td>212.121212</td>\n",
       "    </tr>\n",
       "    <tr>\n",
       "      <th>63</th>\n",
       "      <td>Shredded Wheat</td>\n",
       "      <td>N</td>\n",
       "      <td>C</td>\n",
       "      <td>80</td>\n",
       "      <td>2</td>\n",
       "      <td>0</td>\n",
       "      <td>0</td>\n",
       "      <td>3.0</td>\n",
       "      <td>16.0</td>\n",
       "      <td>0</td>\n",
       "      <td>95</td>\n",
       "      <td>0</td>\n",
       "      <td>1</td>\n",
       "      <td>0.83</td>\n",
       "      <td>1.00</td>\n",
       "      <td>68.235885</td>\n",
       "      <td>80.000000</td>\n",
       "    </tr>\n",
       "  </tbody>\n",
       "</table>\n",
       "</div>"
      ],
      "text/plain": [
       "                   grain_name Producer Variety  calories_content  \\\n",
       "3   All-Bran with Extra Fiber        K       C                50   \n",
       "64     Shredded Wheat 'n'Bran        N       C                90   \n",
       "65  Shredded Wheat spoon size        N       C                90   \n",
       "0                   100% Bran        N       C                70   \n",
       "63             Shredded Wheat        N       C                80   \n",
       "\n",
       "    protein_content  fat_content  sodium_content  fiber_content  \\\n",
       "3                 4            0             140           14.0   \n",
       "64                3            0               0            4.0   \n",
       "65                3            0               0            3.0   \n",
       "0                 4            1             130           10.0   \n",
       "63                2            0               0            3.0   \n",
       "\n",
       "    hydrated_carbon  sugars_content  potassium_content  vit_&_min  shelf  \\\n",
       "3               8.0               0                330         25      3   \n",
       "64             19.0               0                140          0      1   \n",
       "65             20.0               0                120          0      1   \n",
       "0               5.0               6                280         25      3   \n",
       "63             16.0               0                 95          0      1   \n",
       "\n",
       "    weight  cups    ratings       value  \n",
       "3     1.00  0.50  93.704912  100.000000  \n",
       "64    1.00  0.67  74.472949  134.328358  \n",
       "65    1.00  0.67  72.801787  134.328358  \n",
       "0     1.00  0.33  68.402973  212.121212  \n",
       "63    0.83  1.00  68.235885   80.000000  "
      ]
     },
     "execution_count": 75,
     "metadata": {},
     "output_type": "execute_result"
    }
   ],
   "source": [
    "df_best.head()"
   ]
  },
  {
   "cell_type": "code",
   "execution_count": 83,
   "id": "660097b5",
   "metadata": {},
   "outputs": [
    {
     "name": "stderr",
     "output_type": "stream",
     "text": [
      "<ipython-input-83-e0300d5691e8>:5: UserWarning: FixedFormatter should only be used together with FixedLocator\n",
      "  ax.set_xticklabels(X, rotation=90)\n"
     ]
    },
    {
     "data": {
      "text/plain": [
       "Text(0.5, 1.0, 'Highly Rated Cereals')"
      ]
     },
     "execution_count": 83,
     "metadata": {},
     "output_type": "execute_result"
    },
    {
     "data": {
      "image/png": "[encoded data removed]",
      "text/plain": [
       "<Figure size 432x288 with 1 Axes>"
      ]
     },
     "metadata": {
      "needs_background": "light"
     },
     "output_type": "display_data"
    }
   ],
   "source": [
    "X = ['All-Bran with Extra Fiber', \"Shredded Wheat 'n'Bran\",'Shredded Wheat spoon size', '100% Bran', 'Shredded Wheat']\n",
    "Y = [93.704912, 74.472949, 72.801787, 68.402973, 68.235885]\n",
    "ax = plt.subplot()\n",
    "ax.bar(X,Y,color='indigo')\n",
    "ax.set_xticklabels(X, rotation=90)\n",
    "ax.set_ylabel('Rating %')\n",
    "ax.set_title('Highly Rated Cereals')"
   ]
  },
  {
   "cell_type": "code",
   "execution_count": null,
   "id": "0390a1b5",
   "metadata": {},
   "outputs": [],
   "source": []
  }
 ],
 "metadata": {
  "kernelspec": {
   "display_name": "Python 3",
   "language": "python",
   "name": "python3"
  },
  "language_info": {
   "codemirror_mode": {
    "name": "ipython",
    "version": 3
   },
   "file_extension": ".py",
   "mimetype": "text/x-python",
   "name": "python",
   "nbconvert_exporter": "python",
   "pygments_lexer": "ipython3",
   "version": "3.8.8"
  }
 },
 "nbformat": 4,
 "nbformat_minor": 5
}
