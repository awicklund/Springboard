{
 "cells": [
  {
   "cell_type": "code",
   "execution_count": 1,
   "id": "3887fbe8",
   "metadata": {},
   "outputs": [],
   "source": [
    "#Import libraries\n",
    "import pandas as pd\n",
    "import matplotlib.pyplot as plt\n",
    "import numpy as np\n",
    "from time import time"
   ]
  },
  {
   "cell_type": "code",
   "execution_count": 2,
   "id": "df376286",
   "metadata": {},
   "outputs": [],
   "source": [
    "#Import json into pandas df\n",
    "df = pd.read_json('ultimate_data_challenge.json')"
   ]
  },
  {
   "cell_type": "code",
   "execution_count": 3,
   "id": "10c7cd43",
   "metadata": {},
   "outputs": [
    {
     "data": {
      "text/html": [
       "<div>\n",
       "<style scoped>\n",
       "    .dataframe tbody tr th:only-of-type {\n",
       "        vertical-align: middle;\n",
       "    }\n",
       "\n",
       "    .dataframe tbody tr th {\n",
       "        vertical-align: top;\n",
       "    }\n",
       "\n",
       "    .dataframe thead th {\n",
       "        text-align: right;\n",
       "    }\n",
       "</style>\n",
       "<table border=\"1\" class=\"dataframe\">\n",
       "  <thead>\n",
       "    <tr style=\"text-align: right;\">\n",
       "      <th></th>\n",
       "      <th>city</th>\n",
       "      <th>trips_in_first_30_days</th>\n",
       "      <th>signup_date</th>\n",
       "      <th>avg_rating_of_driver</th>\n",
       "      <th>avg_surge</th>\n",
       "      <th>last_trip_date</th>\n",
       "      <th>phone</th>\n",
       "      <th>surge_pct</th>\n",
       "      <th>ultimate_black_user</th>\n",
       "      <th>weekday_pct</th>\n",
       "      <th>avg_dist</th>\n",
       "      <th>avg_rating_by_driver</th>\n",
       "    </tr>\n",
       "  </thead>\n",
       "  <tbody>\n",
       "    <tr>\n",
       "      <th>0</th>\n",
       "      <td>King's Landing</td>\n",
       "      <td>4</td>\n",
       "      <td>2014-01-25</td>\n",
       "      <td>4.7</td>\n",
       "      <td>1.10</td>\n",
       "      <td>2014-06-17</td>\n",
       "      <td>iPhone</td>\n",
       "      <td>15.4</td>\n",
       "      <td>True</td>\n",
       "      <td>46.2</td>\n",
       "      <td>3.67</td>\n",
       "      <td>5.0</td>\n",
       "    </tr>\n",
       "    <tr>\n",
       "      <th>1</th>\n",
       "      <td>Astapor</td>\n",
       "      <td>0</td>\n",
       "      <td>2014-01-29</td>\n",
       "      <td>5.0</td>\n",
       "      <td>1.00</td>\n",
       "      <td>2014-05-05</td>\n",
       "      <td>Android</td>\n",
       "      <td>0.0</td>\n",
       "      <td>False</td>\n",
       "      <td>50.0</td>\n",
       "      <td>8.26</td>\n",
       "      <td>5.0</td>\n",
       "    </tr>\n",
       "    <tr>\n",
       "      <th>2</th>\n",
       "      <td>Astapor</td>\n",
       "      <td>3</td>\n",
       "      <td>2014-01-06</td>\n",
       "      <td>4.3</td>\n",
       "      <td>1.00</td>\n",
       "      <td>2014-01-07</td>\n",
       "      <td>iPhone</td>\n",
       "      <td>0.0</td>\n",
       "      <td>False</td>\n",
       "      <td>100.0</td>\n",
       "      <td>0.77</td>\n",
       "      <td>5.0</td>\n",
       "    </tr>\n",
       "    <tr>\n",
       "      <th>3</th>\n",
       "      <td>King's Landing</td>\n",
       "      <td>9</td>\n",
       "      <td>2014-01-10</td>\n",
       "      <td>4.6</td>\n",
       "      <td>1.14</td>\n",
       "      <td>2014-06-29</td>\n",
       "      <td>iPhone</td>\n",
       "      <td>20.0</td>\n",
       "      <td>True</td>\n",
       "      <td>80.0</td>\n",
       "      <td>2.36</td>\n",
       "      <td>4.9</td>\n",
       "    </tr>\n",
       "    <tr>\n",
       "      <th>4</th>\n",
       "      <td>Winterfell</td>\n",
       "      <td>14</td>\n",
       "      <td>2014-01-27</td>\n",
       "      <td>4.4</td>\n",
       "      <td>1.19</td>\n",
       "      <td>2014-03-15</td>\n",
       "      <td>Android</td>\n",
       "      <td>11.8</td>\n",
       "      <td>False</td>\n",
       "      <td>82.4</td>\n",
       "      <td>3.13</td>\n",
       "      <td>4.9</td>\n",
       "    </tr>\n",
       "  </tbody>\n",
       "</table>\n",
       "</div>"
      ],
      "text/plain": [
       "             city  trips_in_first_30_days signup_date  avg_rating_of_driver  \\\n",
       "0  King's Landing                       4  2014-01-25                   4.7   \n",
       "1         Astapor                       0  2014-01-29                   5.0   \n",
       "2         Astapor                       3  2014-01-06                   4.3   \n",
       "3  King's Landing                       9  2014-01-10                   4.6   \n",
       "4      Winterfell                      14  2014-01-27                   4.4   \n",
       "\n",
       "   avg_surge last_trip_date    phone  surge_pct  ultimate_black_user  \\\n",
       "0       1.10     2014-06-17   iPhone       15.4                 True   \n",
       "1       1.00     2014-05-05  Android        0.0                False   \n",
       "2       1.00     2014-01-07   iPhone        0.0                False   \n",
       "3       1.14     2014-06-29   iPhone       20.0                 True   \n",
       "4       1.19     2014-03-15  Android       11.8                False   \n",
       "\n",
       "   weekday_pct  avg_dist  avg_rating_by_driver  \n",
       "0         46.2      3.67                   5.0  \n",
       "1         50.0      8.26                   5.0  \n",
       "2        100.0      0.77                   5.0  \n",
       "3         80.0      2.36                   4.9  \n",
       "4         82.4      3.13                   4.9  "
      ]
     },
     "execution_count": 3,
     "metadata": {},
     "output_type": "execute_result"
    }
   ],
   "source": [
    "df.head()"
   ]
  },
  {
   "cell_type": "code",
   "execution_count": 4,
   "id": "099091ea",
   "metadata": {},
   "outputs": [],
   "source": [
    "#Import login json into pandas df\n",
    "df2 = pd.read_json('logins.json')"
   ]
  },
  {
   "cell_type": "code",
   "execution_count": 5,
   "id": "d9a3ff53",
   "metadata": {},
   "outputs": [
    {
     "data": {
      "text/html": [
       "<div>\n",
       "<style scoped>\n",
       "    .dataframe tbody tr th:only-of-type {\n",
       "        vertical-align: middle;\n",
       "    }\n",
       "\n",
       "    .dataframe tbody tr th {\n",
       "        vertical-align: top;\n",
       "    }\n",
       "\n",
       "    .dataframe thead th {\n",
       "        text-align: right;\n",
       "    }\n",
       "</style>\n",
       "<table border=\"1\" class=\"dataframe\">\n",
       "  <thead>\n",
       "    <tr style=\"text-align: right;\">\n",
       "      <th></th>\n",
       "      <th>login_time</th>\n",
       "    </tr>\n",
       "  </thead>\n",
       "  <tbody>\n",
       "    <tr>\n",
       "      <th>0</th>\n",
       "      <td>1970-01-01 20:13:18</td>\n",
       "    </tr>\n",
       "    <tr>\n",
       "      <th>1</th>\n",
       "      <td>1970-01-01 20:16:10</td>\n",
       "    </tr>\n",
       "    <tr>\n",
       "      <th>2</th>\n",
       "      <td>1970-01-01 20:16:37</td>\n",
       "    </tr>\n",
       "    <tr>\n",
       "      <th>3</th>\n",
       "      <td>1970-01-01 20:16:36</td>\n",
       "    </tr>\n",
       "    <tr>\n",
       "      <th>4</th>\n",
       "      <td>1970-01-01 20:26:21</td>\n",
       "    </tr>\n",
       "  </tbody>\n",
       "</table>\n",
       "</div>"
      ],
      "text/plain": [
       "           login_time\n",
       "0 1970-01-01 20:13:18\n",
       "1 1970-01-01 20:16:10\n",
       "2 1970-01-01 20:16:37\n",
       "3 1970-01-01 20:16:36\n",
       "4 1970-01-01 20:26:21"
      ]
     },
     "execution_count": 5,
     "metadata": {},
     "output_type": "execute_result"
    }
   ],
   "source": [
    "df2.head()"
   ]
  },
  {
   "cell_type": "code",
   "execution_count": 6,
   "id": "b4954d37",
   "metadata": {},
   "outputs": [
    {
     "data": {
      "text/html": [
       "<div>\n",
       "<style scoped>\n",
       "    .dataframe tbody tr th:only-of-type {\n",
       "        vertical-align: middle;\n",
       "    }\n",
       "\n",
       "    .dataframe tbody tr th {\n",
       "        vertical-align: top;\n",
       "    }\n",
       "\n",
       "    .dataframe thead th {\n",
       "        text-align: right;\n",
       "    }\n",
       "</style>\n",
       "<table border=\"1\" class=\"dataframe\">\n",
       "  <thead>\n",
       "    <tr style=\"text-align: right;\">\n",
       "      <th></th>\n",
       "      <th>login_time</th>\n",
       "    </tr>\n",
       "  </thead>\n",
       "  <tbody>\n",
       "    <tr>\n",
       "      <th>93137</th>\n",
       "      <td>1970-04-13 18:50:19</td>\n",
       "    </tr>\n",
       "    <tr>\n",
       "      <th>93138</th>\n",
       "      <td>1970-04-13 18:43:56</td>\n",
       "    </tr>\n",
       "    <tr>\n",
       "      <th>93139</th>\n",
       "      <td>1970-04-13 18:54:02</td>\n",
       "    </tr>\n",
       "    <tr>\n",
       "      <th>93140</th>\n",
       "      <td>1970-04-13 18:57:38</td>\n",
       "    </tr>\n",
       "    <tr>\n",
       "      <th>93141</th>\n",
       "      <td>1970-04-13 18:54:23</td>\n",
       "    </tr>\n",
       "  </tbody>\n",
       "</table>\n",
       "</div>"
      ],
      "text/plain": [
       "               login_time\n",
       "93137 1970-04-13 18:50:19\n",
       "93138 1970-04-13 18:43:56\n",
       "93139 1970-04-13 18:54:02\n",
       "93140 1970-04-13 18:57:38\n",
       "93141 1970-04-13 18:54:23"
      ]
     },
     "execution_count": 6,
     "metadata": {},
     "output_type": "execute_result"
    }
   ],
   "source": [
    "df2.tail()"
   ]
  },
  {
   "cell_type": "code",
   "execution_count": 7,
   "id": "549d215f",
   "metadata": {},
   "outputs": [
    {
     "name": "stdout",
     "output_type": "stream",
     "text": [
      "<class 'pandas.core.frame.DataFrame'>\n",
      "RangeIndex: 93142 entries, 0 to 93141\n",
      "Data columns (total 1 columns):\n",
      " #   Column      Non-Null Count  Dtype         \n",
      "---  ------      --------------  -----         \n",
      " 0   login_time  93142 non-null  datetime64[ns]\n",
      "dtypes: datetime64[ns](1)\n",
      "memory usage: 727.8 KB\n"
     ]
    }
   ],
   "source": [
    "df2.info()"
   ]
  },
  {
   "cell_type": "code",
   "execution_count": 8,
   "id": "59081abb",
   "metadata": {},
   "outputs": [
    {
     "data": {
      "text/plain": [
       "login_time    False\n",
       "dtype: bool"
      ]
     },
     "execution_count": 8,
     "metadata": {},
     "output_type": "execute_result"
    }
   ],
   "source": [
    "#Check for nulls\n",
    "df2.isnull().any()"
   ]
  },
  {
   "cell_type": "code",
   "execution_count": 9,
   "id": "58579f57",
   "metadata": {},
   "outputs": [
    {
     "name": "stdout",
     "output_type": "stream",
     "text": [
      "9888\n"
     ]
    }
   ],
   "source": [
    "#How many time periods?\n",
    "minute_int_per_day = 24*4\n",
    "days_in_logins = len(pd.date_range(start = '01/01/1970', end= '04/13/1970'))\n",
    "total_time_ints = minute_int_per_day*days_in_logins\n",
    "print(total_time_ints)"
   ]
  },
  {
   "cell_type": "code",
   "execution_count": 10,
   "id": "da851f88",
   "metadata": {},
   "outputs": [
    {
     "data": {
      "text/html": [
       "<div>\n",
       "<style scoped>\n",
       "    .dataframe tbody tr th:only-of-type {\n",
       "        vertical-align: middle;\n",
       "    }\n",
       "\n",
       "    .dataframe tbody tr th {\n",
       "        vertical-align: top;\n",
       "    }\n",
       "\n",
       "    .dataframe thead th {\n",
       "        text-align: right;\n",
       "    }\n",
       "</style>\n",
       "<table border=\"1\" class=\"dataframe\">\n",
       "  <thead>\n",
       "    <tr style=\"text-align: right;\">\n",
       "      <th></th>\n",
       "    </tr>\n",
       "  </thead>\n",
       "  <tbody>\n",
       "    <tr>\n",
       "      <th>1970-01-01 00:00:00</th>\n",
       "    </tr>\n",
       "    <tr>\n",
       "      <th>1970-01-01 00:15:00</th>\n",
       "    </tr>\n",
       "    <tr>\n",
       "      <th>1970-01-01 00:30:00</th>\n",
       "    </tr>\n",
       "    <tr>\n",
       "      <th>1970-01-01 00:45:00</th>\n",
       "    </tr>\n",
       "    <tr>\n",
       "      <th>1970-01-01 01:00:00</th>\n",
       "    </tr>\n",
       "  </tbody>\n",
       "</table>\n",
       "</div>"
      ],
      "text/plain": [
       "Empty DataFrame\n",
       "Columns: []\n",
       "Index: [1970-01-01 00:00:00, 1970-01-01 00:15:00, 1970-01-01 00:30:00, 1970-01-01 00:45:00, 1970-01-01 01:00:00]"
      ]
     },
     "execution_count": 10,
     "metadata": {},
     "output_type": "execute_result"
    }
   ],
   "source": [
    "#Create dft time dataframe\n",
    "dft = pd.DataFrame(index=pd.date_range(\"19700101\", periods=9888, freq=\".25H\"))\n",
    "dft.head()"
   ]
  },
  {
   "cell_type": "code",
   "execution_count": 11,
   "id": "586134e4",
   "metadata": {},
   "outputs": [
    {
     "data": {
      "text/html": [
       "<div>\n",
       "<style scoped>\n",
       "    .dataframe tbody tr th:only-of-type {\n",
       "        vertical-align: middle;\n",
       "    }\n",
       "\n",
       "    .dataframe tbody tr th {\n",
       "        vertical-align: top;\n",
       "    }\n",
       "\n",
       "    .dataframe thead th {\n",
       "        text-align: right;\n",
       "    }\n",
       "</style>\n",
       "<table border=\"1\" class=\"dataframe\">\n",
       "  <thead>\n",
       "    <tr style=\"text-align: right;\">\n",
       "      <th></th>\n",
       "    </tr>\n",
       "  </thead>\n",
       "  <tbody>\n",
       "    <tr>\n",
       "      <th>1970-04-13 22:45:00</th>\n",
       "    </tr>\n",
       "    <tr>\n",
       "      <th>1970-04-13 23:00:00</th>\n",
       "    </tr>\n",
       "    <tr>\n",
       "      <th>1970-04-13 23:15:00</th>\n",
       "    </tr>\n",
       "    <tr>\n",
       "      <th>1970-04-13 23:30:00</th>\n",
       "    </tr>\n",
       "    <tr>\n",
       "      <th>1970-04-13 23:45:00</th>\n",
       "    </tr>\n",
       "  </tbody>\n",
       "</table>\n",
       "</div>"
      ],
      "text/plain": [
       "Empty DataFrame\n",
       "Columns: []\n",
       "Index: [1970-04-13 22:45:00, 1970-04-13 23:00:00, 1970-04-13 23:15:00, 1970-04-13 23:30:00, 1970-04-13 23:45:00]"
      ]
     },
     "execution_count": 11,
     "metadata": {},
     "output_type": "execute_result"
    }
   ],
   "source": [
    "dft.tail()\n",
    "    "
   ]
  },
  {
   "cell_type": "code",
   "execution_count": 12,
   "id": "3feac49d",
   "metadata": {},
   "outputs": [
    {
     "data": {
      "image/png": "[encoded data removed]",
      "text/plain": [
       "<Figure size 432x288 with 1 Axes>"
      ]
     },
     "metadata": {
      "needs_background": "light"
     },
     "output_type": "display_data"
    }
   ],
   "source": [
    "#plot histogram\n",
    "num_bins = total_time_ints\n",
    "n, bins, patches = plt.hist(df2.login_time, num_bins, facecolor='blue', alpha=0.5)\n",
    "plt.show()"
   ]
  },
  {
   "cell_type": "markdown",
   "id": "2d39cd7b",
   "metadata": {},
   "source": [
    "This is very hard to read. Maybe grouping by time would be easier."
   ]
  },
  {
   "cell_type": "code",
   "execution_count": 124,
   "id": "cf2f41b5",
   "metadata": {},
   "outputs": [
    {
     "name": "stdout",
     "output_type": "stream",
     "text": [
      "86400\n",
      "[    0   900  1800  2700  3600  4500  5400  6300  7200  8100  9000  9900\n",
      " 10800 11700 12600 13500 14400 15300 16200 17100 18000 18900 19800 20700\n",
      " 21600 22500 23400 24300 25200 26100 27000 27900 28800 29700 30600 31500\n",
      " 32400 33300 34200 35100 36000 36900 37800 38700 39600 40500 41400 42300\n",
      " 43200 44100 45000 45900 46800 47700 48600 49500 50400 51300 52200 53100\n",
      " 54000 54900 55800 56700 57600 58500 59400 60300 61200 62100 63000 63900\n",
      " 64800 65700 66600 67500 68400 69300 70200 71100 72000 72900 73800 74700\n",
      " 75600 76500 77400 78300 79200 80100 81000 81900 82800 83700 84600 85500\n",
      " 86400]\n"
     ]
    }
   ],
   "source": [
    "#Create time interval array of 15M intervals (in seconds)\n",
    "fifteen_minutes = 15*60\n",
    "seconds_in_day = 24*60*60\n",
    "print(seconds_in_day)\n",
    "time_interval = np.arange(0,seconds_in_day+fifteen_minutes,fifteen_minutes) #added extra 15 min due to indexing\n",
    "print(time_interval)"
   ]
  },
  {
   "cell_type": "code",
   "execution_count": 94,
   "id": "3f88ff9f",
   "metadata": {},
   "outputs": [],
   "source": [
    "#https://stackoverflow.com/questions/31339836/how-to-convert-a-time-object-to-seconds-since-midnight-in-python\n",
    "from datetime import *\n",
    "import time\n",
    "\n",
    "df2.login_time = df2.login_time.astype('datetime64')\n",
    "\n",
    "hour = np.array(())\n",
    "for i in range(len(df2.login_time)):\n",
    "    temp_hour = df2.login_time[i].strftime(\"%H\")\n",
    "    hour = np.append(hour, temp_hour)\n",
    "\n",
    "df2['hour'] = hour"
   ]
  },
  {
   "cell_type": "code",
   "execution_count": 101,
   "id": "fc09131f",
   "metadata": {},
   "outputs": [],
   "source": [
    "minute = np.array(())\n",
    "for a in range(len(df2.login_time)):\n",
    "    temp_min = df2.login_time[a].strftime(\"%M\")\n",
    "    minute = np.append(minute, temp_min)\n",
    "\n",
    "df2['minute'] = minute"
   ]
  },
  {
   "cell_type": "code",
   "execution_count": 102,
   "id": "988ae297",
   "metadata": {},
   "outputs": [],
   "source": [
    "second = np.array(())\n",
    "for b in range(len(df2.login_time)):\n",
    "    temp_sec = df2.login_time[b].strftime(\"%S\")\n",
    "    second = np.append(second, temp_sec)\n",
    "\n",
    "df2['second'] = second"
   ]
  },
  {
   "cell_type": "code",
   "execution_count": 106,
   "id": "da8b5fb6",
   "metadata": {},
   "outputs": [],
   "source": [
    "df2.hour = df2.hour.astype('int')\n",
    "df2.minute = df2.minute.astype('int')\n",
    "df2.second = df2.second.astype('int')\n",
    "\n",
    "df2['total_seconds'] = (df2.hour*60*60) + (df2.minute*60) + df2.second"
   ]
  },
  {
   "cell_type": "code",
   "execution_count": 107,
   "id": "40f1db4b",
   "metadata": {},
   "outputs": [
    {
     "data": {
      "text/html": [
       "<div>\n",
       "<style scoped>\n",
       "    .dataframe tbody tr th:only-of-type {\n",
       "        vertical-align: middle;\n",
       "    }\n",
       "\n",
       "    .dataframe tbody tr th {\n",
       "        vertical-align: top;\n",
       "    }\n",
       "\n",
       "    .dataframe thead th {\n",
       "        text-align: right;\n",
       "    }\n",
       "</style>\n",
       "<table border=\"1\" class=\"dataframe\">\n",
       "  <thead>\n",
       "    <tr style=\"text-align: right;\">\n",
       "      <th></th>\n",
       "      <th>login_time</th>\n",
       "      <th>time</th>\n",
       "      <th>hour</th>\n",
       "      <th>minute</th>\n",
       "      <th>second</th>\n",
       "      <th>total_seconds</th>\n",
       "    </tr>\n",
       "  </thead>\n",
       "  <tbody>\n",
       "    <tr>\n",
       "      <th>0</th>\n",
       "      <td>1970-01-01 20:13:18</td>\n",
       "      <td>[]</td>\n",
       "      <td>20</td>\n",
       "      <td>13</td>\n",
       "      <td>18</td>\n",
       "      <td>72798</td>\n",
       "    </tr>\n",
       "    <tr>\n",
       "      <th>1</th>\n",
       "      <td>1970-01-01 20:16:10</td>\n",
       "      <td>[]</td>\n",
       "      <td>20</td>\n",
       "      <td>16</td>\n",
       "      <td>10</td>\n",
       "      <td>72970</td>\n",
       "    </tr>\n",
       "    <tr>\n",
       "      <th>2</th>\n",
       "      <td>1970-01-01 20:16:37</td>\n",
       "      <td>[]</td>\n",
       "      <td>20</td>\n",
       "      <td>16</td>\n",
       "      <td>37</td>\n",
       "      <td>72997</td>\n",
       "    </tr>\n",
       "    <tr>\n",
       "      <th>3</th>\n",
       "      <td>1970-01-01 20:16:36</td>\n",
       "      <td>[]</td>\n",
       "      <td>20</td>\n",
       "      <td>16</td>\n",
       "      <td>36</td>\n",
       "      <td>72996</td>\n",
       "    </tr>\n",
       "    <tr>\n",
       "      <th>4</th>\n",
       "      <td>1970-01-01 20:26:21</td>\n",
       "      <td>[]</td>\n",
       "      <td>20</td>\n",
       "      <td>26</td>\n",
       "      <td>21</td>\n",
       "      <td>73581</td>\n",
       "    </tr>\n",
       "  </tbody>\n",
       "</table>\n",
       "</div>"
      ],
      "text/plain": [
       "           login_time time hour  minute  second  total_seconds\n",
       "0 1970-01-01 20:13:18   []   20      13      18          72798\n",
       "1 1970-01-01 20:16:10   []   20      16      10          72970\n",
       "2 1970-01-01 20:16:37   []   20      16      37          72997\n",
       "3 1970-01-01 20:16:36   []   20      16      36          72996\n",
       "4 1970-01-01 20:26:21   []   20      26      21          73581"
      ]
     },
     "execution_count": 107,
     "metadata": {},
     "output_type": "execute_result"
    }
   ],
   "source": [
    "df2.head()"
   ]
  },
  {
   "cell_type": "code",
   "execution_count": null,
   "id": "486db7d4",
   "metadata": {},
   "outputs": [],
   "source": [
    "df2.tail()"
   ]
  },
  {
   "cell_type": "code",
   "execution_count": 110,
   "id": "ef3a12ee",
   "metadata": {},
   "outputs": [
    {
     "data": {
      "image/png": "[encoded data removed]",
      "text/plain": [
       "<Figure size 432x288 with 1 Axes>"
      ]
     },
     "metadata": {
      "needs_background": "light"
     },
     "output_type": "display_data"
    }
   ],
   "source": [
    "num_bins = len(time_interval)\n",
    "n, bins, patches = plt.hist(df2['total_seconds'], num_bins, facecolor='blue', alpha=0.5)\n",
    "plt.xlabel('Time in seconds since midnight')\n",
    "plt.ylabel('Number of logins')\n",
    "plt.title('Logins throughout the day')\n",
    "plt.show()"
   ]
  },
  {
   "cell_type": "code",
   "execution_count": 119,
   "id": "c84fbcad",
   "metadata": {},
   "outputs": [
    {
     "name": "stdout",
     "output_type": "stream",
     "text": [
      "5.555555555555555\n",
      "9.722222222222221\n",
      "16.666666666666668\n",
      "22.22222222222222\n"
     ]
    }
   ],
   "source": [
    "print(20000/3600)\n",
    "print(35000/3600)\n",
    "print(60000/3600)\n",
    "print(80000/3600)"
   ]
  },
  {
   "cell_type": "markdown",
   "id": "9e20219b",
   "metadata": {},
   "source": [
    "The most logins occur between 10 PM and 5 AM, and there is another spike at around 10 AM. There is a large decrease in logins between 5 AM and 10 AM, and a smaller decrease around 5 PM."
   ]
  },
  {
   "cell_type": "code",
   "execution_count": 121,
   "id": "2d820182",
   "metadata": {},
   "outputs": [
    {
     "name": "stdout",
     "output_type": "stream",
     "text": [
      "Empty DataFrame\n",
      "Columns: [login_time, time, hour, minute, second, total_seconds]\n",
      "Index: []\n"
     ]
    }
   ],
   "source": [
    "df_lower = df2[df2['total_seconds'] < 0]\n",
    "print(df_lower)"
   ]
  },
  {
   "cell_type": "code",
   "execution_count": 126,
   "id": "52d01778",
   "metadata": {},
   "outputs": [
    {
     "name": "stdout",
     "output_type": "stream",
     "text": [
      "Empty DataFrame\n",
      "Columns: [login_time, time, hour, minute, second, total_seconds]\n",
      "Index: []\n"
     ]
    }
   ],
   "source": [
    "df_higher = df2[df2['total_seconds'] >= 86400]\n",
    "print(df_higher)"
   ]
  },
  {
   "cell_type": "markdown",
   "id": "906ac781",
   "metadata": {},
   "source": [
    "There are no null values or total seconds that cannot be counted within the day. There are no data issues to report."
   ]
  },
  {
   "cell_type": "code",
   "execution_count": null,
   "id": "54ebdfc2",
   "metadata": {},
   "outputs": [],
   "source": []
  }
 ],
 "metadata": {
  "kernelspec": {
   "display_name": "Python 3",
   "language": "python",
   "name": "python3"
  },
  "language_info": {
   "codemirror_mode": {
    "name": "ipython",
    "version": 3
   },
   "file_extension": ".py",
   "mimetype": "text/x-python",
   "name": "python",
   "nbconvert_exporter": "python",
   "pygments_lexer": "ipython3",
   "version": "3.8.8"
  }
 },
 "nbformat": 4,
 "nbformat_minor": 5
}
